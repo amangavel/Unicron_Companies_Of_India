{
 "cells": [
  {
   "cell_type": "code",
   "execution_count": 22,
   "id": "ecaa7618",
   "metadata": {},
   "outputs": [],
   "source": [
    "# import lib\n",
    "import numpy as np\n",
    "import pandas as pd\n",
    "import seaborn as sns\n",
    "import matplotlib.pyplot as plt"
   ]
  },
  {
   "cell_type": "code",
   "execution_count": 23,
   "id": "045afe41",
   "metadata": {},
   "outputs": [
    {
     "data": {
      "text/html": [
       "<div>\n",
       "<style scoped>\n",
       "    .dataframe tbody tr th:only-of-type {\n",
       "        vertical-align: middle;\n",
       "    }\n",
       "\n",
       "    .dataframe tbody tr th {\n",
       "        vertical-align: top;\n",
       "    }\n",
       "\n",
       "    .dataframe thead th {\n",
       "        text-align: right;\n",
       "    }\n",
       "</style>\n",
       "<table border=\"1\" class=\"dataframe\">\n",
       "  <thead>\n",
       "    <tr style=\"text-align: right;\">\n",
       "      <th></th>\n",
       "      <th>Startup_Name</th>\n",
       "      <th>Industry</th>\n",
       "      <th>Founding_Year</th>\n",
       "      <th>Unicorn_Entry_Year</th>\n",
       "      <th>Profit_in_2021</th>\n",
       "      <th>Current_Valuation</th>\n",
       "      <th>Acquisitions</th>\n",
       "      <th>IPO_Status</th>\n",
       "    </tr>\n",
       "  </thead>\n",
       "  <tbody>\n",
       "    <tr>\n",
       "      <th>0</th>\n",
       "      <td>NaN</td>\n",
       "      <td>NaN</td>\n",
       "      <td>NaN</td>\n",
       "      <td>NaN</td>\n",
       "      <td>NaN</td>\n",
       "      <td>NaN</td>\n",
       "      <td>NaN</td>\n",
       "      <td>NaN</td>\n",
       "    </tr>\n",
       "    <tr>\n",
       "      <th>1</th>\n",
       "      <td>PhysicsWallah</td>\n",
       "      <td>Edtech</td>\n",
       "      <td>2016.0</td>\n",
       "      <td>2022.0</td>\n",
       "      <td>-$0.877 Million</td>\n",
       "      <td>$1.1 Billion</td>\n",
       "      <td>0.0</td>\n",
       "      <td>Unlisted</td>\n",
       "    </tr>\n",
       "    <tr>\n",
       "      <th>2</th>\n",
       "      <td>NaN</td>\n",
       "      <td>NaN</td>\n",
       "      <td>NaN</td>\n",
       "      <td>NaN</td>\n",
       "      <td>NaN</td>\n",
       "      <td>NaN</td>\n",
       "      <td>NaN</td>\n",
       "      <td>NaN</td>\n",
       "    </tr>\n",
       "    <tr>\n",
       "      <th>3</th>\n",
       "      <td>LeadSquared</td>\n",
       "      <td>SaaS- CRM</td>\n",
       "      <td>2011.0</td>\n",
       "      <td>2022.0</td>\n",
       "      <td>-$1 Million</td>\n",
       "      <td>$1 BIllion</td>\n",
       "      <td>0.0</td>\n",
       "      <td>Unlisted</td>\n",
       "    </tr>\n",
       "    <tr>\n",
       "      <th>4</th>\n",
       "      <td>NaN</td>\n",
       "      <td>NaN</td>\n",
       "      <td>NaN</td>\n",
       "      <td>NaN</td>\n",
       "      <td>NaN</td>\n",
       "      <td>NaN</td>\n",
       "      <td>NaN</td>\n",
       "      <td>NaN</td>\n",
       "    </tr>\n",
       "  </tbody>\n",
       "</table>\n",
       "</div>"
      ],
      "text/plain": [
       "    Startup_Name   Industry  Founding_Year  Unicorn_Entry_Year  \\\n",
       "0            NaN        NaN            NaN                 NaN   \n",
       "1  PhysicsWallah     Edtech         2016.0              2022.0   \n",
       "2            NaN        NaN            NaN                 NaN   \n",
       "3    LeadSquared  SaaS- CRM         2011.0              2022.0   \n",
       "4            NaN        NaN            NaN                 NaN   \n",
       "\n",
       "    Profit_in_2021 Current_Valuation  Acquisitions IPO_Status  \n",
       "0              NaN               NaN           NaN        NaN  \n",
       "1  -$0.877 Million      $1.1 Billion           0.0   Unlisted  \n",
       "2              NaN               NaN           NaN        NaN  \n",
       "3      -$1 Million        $1 BIllion           0.0   Unlisted  \n",
       "4              NaN               NaN           NaN        NaN  "
      ]
     },
     "execution_count": 23,
     "metadata": {},
     "output_type": "execute_result"
    }
   ],
   "source": [
    "# Loading the csv file\n",
    "df = pd.read_csv('UnicornCompanies.csv', encoding='cp1252')\n",
    "df.head()"
   ]
  },
  {
   "cell_type": "code",
   "execution_count": 24,
   "id": "6b33d66a",
   "metadata": {},
   "outputs": [
    {
     "name": "stdout",
     "output_type": "stream",
     "text": [
      "<class 'pandas.core.frame.DataFrame'>\n",
      "RangeIndex: 1858 entries, 0 to 1857\n",
      "Data columns (total 8 columns):\n",
      " #   Column              Non-Null Count  Dtype  \n",
      "---  ------              --------------  -----  \n",
      " 0   Startup_Name        929 non-null    object \n",
      " 1   Industry            929 non-null    object \n",
      " 2   Founding_Year       104 non-null    float64\n",
      " 3   Unicorn_Entry_Year  104 non-null    float64\n",
      " 4   Profit_in_2021      67 non-null     object \n",
      " 5   Current_Valuation   104 non-null    object \n",
      " 6   Acquisitions        104 non-null    float64\n",
      " 7   IPO_Status          104 non-null    object \n",
      "dtypes: float64(3), object(5)\n",
      "memory usage: 116.2+ KB\n"
     ]
    }
   ],
   "source": [
    "df.info()"
   ]
  },
  {
   "cell_type": "code",
   "execution_count": 25,
   "id": "284d862a",
   "metadata": {},
   "outputs": [
    {
     "data": {
      "text/plain": [
       "Startup_Name           929\n",
       "Industry               929\n",
       "Founding_Year         1754\n",
       "Unicorn_Entry_Year    1754\n",
       "Profit_in_2021        1791\n",
       "Current_Valuation     1754\n",
       "Acquisitions          1754\n",
       "IPO_Status            1754\n",
       "dtype: int64"
      ]
     },
     "execution_count": 25,
     "metadata": {},
     "output_type": "execute_result"
    }
   ],
   "source": [
    "# Checking for null values\n",
    "df.isnull().sum()"
   ]
  },
  {
   "cell_type": "code",
   "execution_count": 26,
   "id": "8a78aa94",
   "metadata": {},
   "outputs": [],
   "source": [
    "df = df[df['Founding_Year'].notna()]"
   ]
  },
  {
   "cell_type": "code",
   "execution_count": 27,
   "id": "166d48a0",
   "metadata": {},
   "outputs": [
    {
     "name": "stdout",
     "output_type": "stream",
     "text": [
      "<class 'pandas.core.frame.DataFrame'>\n",
      "Int64Index: 104 entries, 1 to 207\n",
      "Data columns (total 8 columns):\n",
      " #   Column              Non-Null Count  Dtype  \n",
      "---  ------              --------------  -----  \n",
      " 0   Startup_Name        104 non-null    object \n",
      " 1   Industry            104 non-null    object \n",
      " 2   Founding_Year       104 non-null    float64\n",
      " 3   Unicorn_Entry_Year  104 non-null    float64\n",
      " 4   Profit_in_2021      67 non-null     object \n",
      " 5   Current_Valuation   104 non-null    object \n",
      " 6   Acquisitions        104 non-null    float64\n",
      " 7   IPO_Status          104 non-null    object \n",
      "dtypes: float64(3), object(5)\n",
      "memory usage: 7.3+ KB\n"
     ]
    }
   ],
   "source": [
    "df.info()"
   ]
  },
  {
   "cell_type": "code",
   "execution_count": 28,
   "id": "0eb327f3",
   "metadata": {},
   "outputs": [
    {
     "data": {
      "image/png": "[encoded data removed]",
      "text/plain": [
       "<Figure size 1440x360 with 1 Axes>"
      ]
     },
     "metadata": {
      "needs_background": "light"
     },
     "output_type": "display_data"
    }
   ],
   "source": [
    "Value_Missing = df.isnull().sum().sort_values(ascending = False)\n",
    "percent_missing = (df.isnull().sum() * 100 / len(df)).round(2).sort_values(ascending = False)\n",
    "missing_data = pd.concat([Value_Missing, percent_missing], axis = 1, keys = ['Total', 'Percent'])\n",
    "f, ax = plt.subplots(figsize = (20, 5))\n",
    "plt.xticks(rotation = '90')\n",
    "cplot = sns.barplot(x = missing_data.index, y = missing_data['Percent'], palette = 'bone_r', lw = 2, ec = 'black')\n",
    "for count in cplot.patches:\n",
    "    height = count.get_height()\n",
    "    ax.annotate('{}'.format(height),xy = (count.get_x() + count.get_width()/2, height),\n",
    "                    ha = 'center', va = 'bottom', size = 11, xytext = (0,3), textcoords = 'offset points')\n",
    "cplot.set_title('Missing Value', fontsize = 20, weight = 'bold')\n",
    "cplot.set_ylabel('Count', fontsize = 15)\n",
    "cplot.set_xlabel('Features', fontsize = 15);"
   ]
  },
  {
   "cell_type": "code",
   "execution_count": 38,
   "id": "60da4aab",
   "metadata": {
    "scrolled": true
   },
   "outputs": [
    {
     "data": {
      "text/html": [
       "<div>\n",
       "<style scoped>\n",
       "    .dataframe tbody tr th:only-of-type {\n",
       "        vertical-align: middle;\n",
       "    }\n",
       "\n",
       "    .dataframe tbody tr th {\n",
       "        vertical-align: top;\n",
       "    }\n",
       "\n",
       "    .dataframe thead th {\n",
       "        text-align: right;\n",
       "    }\n",
       "</style>\n",
       "<table border=\"1\" class=\"dataframe\">\n",
       "  <thead>\n",
       "    <tr style=\"text-align: right;\">\n",
       "      <th></th>\n",
       "      <th>Startup_Name</th>\n",
       "      <th>Industry</th>\n",
       "      <th>Founding_Year</th>\n",
       "      <th>Unicorn_Entry_Year</th>\n",
       "      <th>Profit_in_2021</th>\n",
       "      <th>Current_Valuation</th>\n",
       "      <th>Acquisitions</th>\n",
       "      <th>IPO_Status</th>\n",
       "    </tr>\n",
       "  </thead>\n",
       "  <tbody>\n",
       "    <tr>\n",
       "      <th>1</th>\n",
       "      <td>PhysicsWallah</td>\n",
       "      <td>Edtech</td>\n",
       "      <td>2016.0</td>\n",
       "      <td>2022.0</td>\n",
       "      <td>-$0.877 Million</td>\n",
       "      <td>$1.1 Billion</td>\n",
       "      <td>0.0</td>\n",
       "      <td>Unlisted</td>\n",
       "    </tr>\n",
       "    <tr>\n",
       "      <th>3</th>\n",
       "      <td>LeadSquared</td>\n",
       "      <td>SaaS- CRM</td>\n",
       "      <td>2011.0</td>\n",
       "      <td>2022.0</td>\n",
       "      <td>-$1 Million</td>\n",
       "      <td>$1 BIllion</td>\n",
       "      <td>0.0</td>\n",
       "      <td>Unlisted</td>\n",
       "    </tr>\n",
       "    <tr>\n",
       "      <th>5</th>\n",
       "      <td>ElasticRun</td>\n",
       "      <td>E-commerce Logistics</td>\n",
       "      <td>2015.0</td>\n",
       "      <td>2022.0</td>\n",
       "      <td>-$12 Million</td>\n",
       "      <td>$1.5 Billion</td>\n",
       "      <td>0.0</td>\n",
       "      <td>Unlisted</td>\n",
       "    </tr>\n",
       "    <tr>\n",
       "      <th>7</th>\n",
       "      <td>LEAD School</td>\n",
       "      <td>Edtech</td>\n",
       "      <td>2012.0</td>\n",
       "      <td>2022.0</td>\n",
       "      <td>-$15 Million</td>\n",
       "      <td>$1.1 Billion</td>\n",
       "      <td>1.0</td>\n",
       "      <td>Unlisted</td>\n",
       "    </tr>\n",
       "    <tr>\n",
       "      <th>9</th>\n",
       "      <td>Purplle</td>\n",
       "      <td>E-commerce Personal Care</td>\n",
       "      <td>2012.0</td>\n",
       "      <td>2022.0</td>\n",
       "      <td>-$6 Million</td>\n",
       "      <td>$1.1 Billion</td>\n",
       "      <td>1.0</td>\n",
       "      <td>Unlisted</td>\n",
       "    </tr>\n",
       "  </tbody>\n",
       "</table>\n",
       "</div>"
      ],
      "text/plain": [
       "    Startup_Name                  Industry  Founding_Year  Unicorn_Entry_Year  \\\n",
       "1  PhysicsWallah                    Edtech         2016.0              2022.0   \n",
       "3    LeadSquared                 SaaS- CRM         2011.0              2022.0   \n",
       "5     ElasticRun      E-commerce Logistics         2015.0              2022.0   \n",
       "7    LEAD School                    Edtech         2012.0              2022.0   \n",
       "9        Purplle  E-commerce Personal Care         2012.0              2022.0   \n",
       "\n",
       "    Profit_in_2021 Current_Valuation  Acquisitions IPO_Status  \n",
       "1  -$0.877 Million      $1.1 Billion           0.0   Unlisted  \n",
       "3      -$1 Million        $1 BIllion           0.0   Unlisted  \n",
       "5     -$12 Million      $1.5 Billion           0.0   Unlisted  \n",
       "7     -$15 Million      $1.1 Billion           1.0   Unlisted  \n",
       "9      -$6 Million      $1.1 Billion           1.0   Unlisted  "
      ]
     },
     "execution_count": 38,
     "metadata": {},
     "output_type": "execute_result"
    }
   ],
   "source": [
    "df.head()"
   ]
  },
  {
   "cell_type": "code",
   "execution_count": 29,
   "id": "09500f57",
   "metadata": {},
   "outputs": [
    {
     "name": "stderr",
     "output_type": "stream",
     "text": [
      "C:\\Users\\Aman\\AppData\\Local\\Temp/ipykernel_14744/3962516015.py:1: FutureWarning: Dropping of nuisance columns in DataFrame reductions (with 'numeric_only=None') is deprecated; in a future version this will raise TypeError.  Select only valid columns before calling the reduction.\n",
      "  df.min()\n"
     ]
    },
    {
     "data": {
      "text/plain": [
       "Startup_Name                    Acko\n",
       "Industry                      Adtech\n",
       "Founding_Year                 1984.0\n",
       "Unicorn_Entry_Year            2010.0\n",
       "Current_Valuation     $0.013 Billion\n",
       "Acquisitions                     0.0\n",
       "IPO_Status                    Listed\n",
       "dtype: object"
      ]
     },
     "execution_count": 29,
     "metadata": {},
     "output_type": "execute_result"
    }
   ],
   "source": [
    "df.min()"
   ]
  },
  {
   "cell_type": "code",
   "execution_count": 30,
   "id": "a731c285",
   "metadata": {},
   "outputs": [
    {
     "data": {
      "text/plain": [
       "Text(0.5, 0, 'Founding_Year')"
      ]
     },
     "execution_count": 30,
     "metadata": {},
     "output_type": "execute_result"
    },
    {
     "data": {
      "image/png": "[encoded data removed]",
      "text/plain": [
       "<Figure size 1440x864 with 1 Axes>"
      ]
     },
     "metadata": {
      "needs_background": "light"
     },
     "output_type": "display_data"
    }
   ],
   "source": [
    "plt.figure(figsize = (20,12))\n",
    "ax = sns.countplot(x ='Founding_Year',lw=2, ec='black', data = df, palette = 'YlGn_r',\n",
    "              order = df['Founding_Year'].value_counts().index[0:9000])\n",
    "# Adding Annotation\n",
    "fontsize=15\n",
    "plt.title('Top 10 Founding Years')\n",
    "plt.xlabel('Founding_Year')\n"
   ]
  },
  {
   "cell_type": "code",
   "execution_count": 31,
   "id": "df2f7808",
   "metadata": {},
   "outputs": [
    {
     "data": {
      "image/png": "[encoded data removed]",
      "text/plain": [
       "<Figure size 432x288 with 2 Axes>"
      ]
     },
     "metadata": {
      "needs_background": "light"
     },
     "output_type": "display_data"
    }
   ],
   "source": [
    "sns.heatmap(df.corr(), linecolor='w');"
   ]
  },
  {
   "cell_type": "code",
   "execution_count": 32,
   "id": "de9ac235",
   "metadata": {},
   "outputs": [
    {
     "data": {
      "image/png": "[encoded data removed]",
      "text/plain": [
       "<Figure size 1440x576 with 1 Axes>"
      ]
     },
     "metadata": {
      "needs_background": "light"
     },
     "output_type": "display_data"
    }
   ],
   "source": [
    "states= df.groupby(['Founding_Year'])[['Unicorn_Entry_Year', 'Acquisitions']].sum()\n",
    "states.sort_values(\"Acquisitions\", ascending=False).plot(kind = 'bar', figsize = (20,8))\n",
    "plt.show()"
   ]
  },
  {
   "cell_type": "code",
   "execution_count": 33,
   "id": "be920c2e",
   "metadata": {},
   "outputs": [],
   "source": [
    "years = df['Unicorn_Entry_Year']-df['Founding_Year']"
   ]
  },
  {
   "cell_type": "code",
   "execution_count": 37,
   "id": "cd65644b",
   "metadata": {},
   "outputs": [
    {
     "name": "stdout",
     "output_type": "stream",
     "text": [
      "7.376146788990826\n"
     ]
    }
   ],
   "source": [
    "print(years.sum()/109)"
   ]
  },
  {
   "cell_type": "code",
   "execution_count": null,
   "id": "cbf5aa8b",
   "metadata": {},
   "outputs": [],
   "source": []
  }
 ],
 "metadata": {
  "kernelspec": {
   "display_name": "Python 3 (ipykernel)",
   "language": "python",
   "name": "python3"
  },
  "language_info": {
   "codemirror_mode": {
    "name": "ipython",
    "version": 3
   },
   "file_extension": ".py",
   "mimetype": "text/x-python",
   "name": "python",
   "nbconvert_exporter": "python",
   "pygments_lexer": "ipython3",
   "version": "3.9.7"
  }
 },
 "nbformat": 4,
 "nbformat_minor": 5
}
