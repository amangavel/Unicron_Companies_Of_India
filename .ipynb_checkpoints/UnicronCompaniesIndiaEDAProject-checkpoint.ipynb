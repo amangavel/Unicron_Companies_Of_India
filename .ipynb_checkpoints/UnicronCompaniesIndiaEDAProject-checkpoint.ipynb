{
 "cells": [
  {
   "cell_type": "code",
   "execution_count": 2,
   "id": "723bd998",
   "metadata": {},
   "outputs": [],
   "source": [
    "# import lib\n",
    "import pandas as pd\n",
    "import seaborn as sns\n",
    "import matplotlib.pyplot as plt"
   ]
  },
  {
   "cell_type": "code",
   "execution_count": 5,
   "id": "a8396cd3",
   "metadata": {},
   "outputs": [
    {
     "data": {
      "text/html": [
       "<div>\n",
       "<style scoped>\n",
       "    .dataframe tbody tr th:only-of-type {\n",
       "        vertical-align: middle;\n",
       "    }\n",
       "\n",
       "    .dataframe tbody tr th {\n",
       "        vertical-align: top;\n",
       "    }\n",
       "\n",
       "    .dataframe thead th {\n",
       "        text-align: right;\n",
       "    }\n",
       "</style>\n",
       "<table border=\"1\" class=\"dataframe\">\n",
       "  <thead>\n",
       "    <tr style=\"text-align: right;\">\n",
       "      <th></th>\n",
       "      <th>Startup Name</th>\n",
       "      <th>Industry</th>\n",
       "      <th>Founding Year</th>\n",
       "      <th>Unicorn Entry Year</th>\n",
       "      <th>Profit in 2021</th>\n",
       "      <th>Current Valuation</th>\n",
       "      <th>Acquisitions</th>\n",
       "      <th>IPO Status</th>\n",
       "    </tr>\n",
       "  </thead>\n",
       "  <tbody>\n",
       "    <tr>\n",
       "      <th>0</th>\n",
       "      <td>PhysicsWallah</td>\n",
       "      <td>Edtech</td>\n",
       "      <td>2016.0</td>\n",
       "      <td>2022.0</td>\n",
       "      <td>-$0.877 Million</td>\n",
       "      <td>$1.1 Billion</td>\n",
       "      <td>0.0</td>\n",
       "      <td>Unlisted</td>\n",
       "    </tr>\n",
       "    <tr>\n",
       "      <th>1</th>\n",
       "      <td>LeadSquared</td>\n",
       "      <td>SaaS- CRM</td>\n",
       "      <td>2011.0</td>\n",
       "      <td>2022.0</td>\n",
       "      <td>-$1 Million</td>\n",
       "      <td>$1 BIllion</td>\n",
       "      <td>0.0</td>\n",
       "      <td>Unlisted</td>\n",
       "    </tr>\n",
       "    <tr>\n",
       "      <th>2</th>\n",
       "      <td>ElasticRun</td>\n",
       "      <td>E-commerce Logistics</td>\n",
       "      <td>2015.0</td>\n",
       "      <td>2022.0</td>\n",
       "      <td>-$12 Million</td>\n",
       "      <td>$1.5 Billion</td>\n",
       "      <td>0.0</td>\n",
       "      <td>Unlisted</td>\n",
       "    </tr>\n",
       "    <tr>\n",
       "      <th>3</th>\n",
       "      <td>LEAD School</td>\n",
       "      <td>Edtech</td>\n",
       "      <td>2012.0</td>\n",
       "      <td>2022.0</td>\n",
       "      <td>-$15 Million</td>\n",
       "      <td>$1.1 Billion</td>\n",
       "      <td>1.0</td>\n",
       "      <td>Unlisted</td>\n",
       "    </tr>\n",
       "    <tr>\n",
       "      <th>4</th>\n",
       "      <td>Purplle</td>\n",
       "      <td>E-commerce Personal Care</td>\n",
       "      <td>2012.0</td>\n",
       "      <td>2022.0</td>\n",
       "      <td>-$6 Million</td>\n",
       "      <td>$1.1 Billion</td>\n",
       "      <td>1.0</td>\n",
       "      <td>Unlisted</td>\n",
       "    </tr>\n",
       "  </tbody>\n",
       "</table>\n",
       "</div>"
      ],
      "text/plain": [
       "    Startup Name                  Industry  Founding Year  Unicorn Entry Year  \\\n",
       "0  PhysicsWallah                    Edtech         2016.0              2022.0   \n",
       "1    LeadSquared                 SaaS- CRM         2011.0              2022.0   \n",
       "2     ElasticRun      E-commerce Logistics         2015.0              2022.0   \n",
       "3    LEAD School                    Edtech         2012.0              2022.0   \n",
       "4        Purplle  E-commerce Personal Care         2012.0              2022.0   \n",
       "\n",
       "    Profit in 2021 Current Valuation  Acquisitions IPO Status  \n",
       "0  -$0.877 Million      $1.1 Billion           0.0   Unlisted  \n",
       "1      -$1 Million        $1 BIllion           0.0   Unlisted  \n",
       "2     -$12 Million      $1.5 Billion           0.0   Unlisted  \n",
       "3     -$15 Million      $1.1 Billion           1.0   Unlisted  \n",
       "4      -$6 Million      $1.1 Billion           1.0   Unlisted  "
      ]
     },
     "execution_count": 5,
     "metadata": {},
     "output_type": "execute_result"
    }
   ],
   "source": [
    "# Loading the csv file\n",
    "df = pd.read_csv('UnicornCompanies.csv', encoding='cp1252')\n",
    "df.head()"
   ]
  },
  {
   "cell_type": "code",
   "execution_count": 6,
   "id": "d385353d",
   "metadata": {},
   "outputs": [
    {
     "data": {
      "text/plain": [
       "Startup Name            0\n",
       "Industry                0\n",
       "Founding Year         825\n",
       "Unicorn Entry Year    825\n",
       "Profit in 2021        862\n",
       "Current Valuation     825\n",
       "Acquisitions          825\n",
       "IPO Status            825\n",
       "dtype: int64"
      ]
     },
     "execution_count": 6,
     "metadata": {},
     "output_type": "execute_result"
    }
   ],
   "source": [
    "# Checking for null values\n",
    "df.isnull().sum()"
   ]
  },
  {
   "cell_type": "code",
   "execution_count": 8,
   "id": "a1311f97",
   "metadata": {},
   "outputs": [
    {
     "name": "stdout",
     "output_type": "stream",
     "text": [
      "<class 'pandas.core.frame.DataFrame'>\n",
      "RangeIndex: 929 entries, 0 to 928\n",
      "Data columns (total 8 columns):\n",
      " #   Column              Non-Null Count  Dtype  \n",
      "---  ------              --------------  -----  \n",
      " 0   Startup Name        929 non-null    object \n",
      " 1   Industry            929 non-null    object \n",
      " 2   Founding Year       104 non-null    float64\n",
      " 3   Unicorn Entry Year  104 non-null    float64\n",
      " 4   Profit in 2021      67 non-null     object \n",
      " 5   Current Valuation   104 non-null    object \n",
      " 6   Acquisitions        104 non-null    float64\n",
      " 7   IPO Status          104 non-null    object \n",
      "dtypes: float64(3), object(5)\n",
      "memory usage: 58.2+ KB\n"
     ]
    }
   ],
   "source": [
    "df.info()"
   ]
  },
  {
   "cell_type": "code",
   "execution_count": null,
   "id": "ec5544b5",
   "metadata": {},
   "outputs": [],
   "source": []
  }
 ],
 "metadata": {
  "kernelspec": {
   "display_name": "Python 3 (ipykernel)",
   "language": "python",
   "name": "python3"
  },
  "language_info": {
   "codemirror_mode": {
    "name": "ipython",
    "version": 3
   },
   "file_extension": ".py",
   "mimetype": "text/x-python",
   "name": "python",
   "nbconvert_exporter": "python",
   "pygments_lexer": "ipython3",
   "version": "3.9.7"
  }
 },
 "nbformat": 4,
 "nbformat_minor": 5
}
